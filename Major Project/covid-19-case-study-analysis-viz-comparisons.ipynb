{
 "cells": [
  {
   "cell_type": "markdown",
   "metadata": {},
   "source": [
    "# **COVID-19 Analysis, Visualization, Comparison and Predictions**"
   ]
  },
  {
   "cell_type": "code",
   "execution_count": null,
   "metadata": {
    "_kg_hide-input": true,
    "_kg_hide-output": true
   },
   "outputs": [],
   "source": [
    "# Installs\n",
    "!pip install pycountry_convert \n",
    "!pip install folium\n",
    "!pip install calmap\n",
    "# !pip install pandas==0.25.1\n",
    "!wget https://raw.githubusercontent.com/tarunk04/COVID-19-CaseStudy-and-Predictions/master/models/model_deaths_v5.h5\n",
    "!wget https://raw.githubusercontent.com/tarunk04/COVID-19-CaseStudy-and-Predictions/master/models/model_confirmed_v4.h5\n",
    "!wget https://raw.githubusercontent.com/tarunk04/COVID-19-CaseStudy-and-Predictions/master/models/model_usa_c_v3.h5\n",
    "    "
   ]
  },
  {
   "cell_type": "markdown",
   "metadata": {},
   "source": [
    "# Imports and Datasets\n",
    "<hr> \n",
    "* Pandas - for dataset handeling\n",
    "* Numpy - Support for Pandas and calculations \n",
    "* Matplotlib - for visualization (Platting graphas)\n",
    "* pycountry_convert - Library for getting continent (name) to from their country names\n",
    "* folium - Library for Map\n",
    "* keras - Prediction Models\n",
    "* plotly - for interative plots"
   ]
  },
  {
   "cell_type": "code",
   "execution_count": null,
   "metadata": {
    "_cell_guid": "b1076dfc-b9ad-4769-8c92-a6c4dae69d19",
    "_kg_hide-input": true,
    "_kg_hide-output": true,
    "_uuid": "8f2839f25d086af736a60e9eeb907d3b93b6e0e5"
   },
   "outputs": [],
   "source": [
    "import pandas as pd\n",
    "import numpy as np\n",
    "import matplotlib.pyplot as plt\n",
    "from matplotlib import ticker \n",
    "import pycountry_convert as pc\n",
    "import folium\n",
    "import branca\n",
    "from datetime import datetime, timedelta,date\n",
    "from scipy.interpolate import make_interp_spline, BSpline\n",
    "import plotly.express as px\n",
    "import json, requests\n",
    "import calmap\n",
    "\n",
    "from keras.layers import Input, Dense, Activation, LeakyReLU, Dropout\n",
    "from keras import models\n",
    "from keras.optimizers import RMSprop, Adam\n",
    "\n",
    "import warnings\n",
    "warnings.filterwarnings('ignore')\n",
    "\n",
    "%matplotlib inline"
   ]
  },
  {
   "cell_type": "code",
   "execution_count": null,
   "metadata": {
    "_kg_hide-input": true,
    "_kg_hide-output": true
   },
   "outputs": [],
   "source": [
    "# Retriving Dataset\n",
    "df_confirmed = pd.read_csv('https://raw.githubusercontent.com/CSSEGISandData/COVID-19/master/csse_covid_19_data/csse_covid_19_time_series/time_series_covid19_confirmed_global.csv')\n",
    "df_deaths = pd.read_csv('https://raw.githubusercontent.com/CSSEGISandData/COVID-19/master/csse_covid_19_data/csse_covid_19_time_series/time_series_covid19_deaths_global.csv')\n",
    "\n",
    "# Depricated\n",
    "# df_recovered = pd.read_csv('https://raw.githubusercontent.com/CSSEGISandData/COVID-19/master/csse_covid_19_data/csse_covid_19_time_series/time_series_19-covid-Recovered.csv')\n",
    "df_covid19 = pd.read_csv(\"https://raw.githubusercontent.com/CSSEGISandData/COVID-19/web-data/data/cases_country.csv\")\n",
    "df_table = pd.read_csv(\"https://raw.githubusercontent.com/CSSEGISandData/COVID-19/web-data/data/cases_time.csv\",parse_dates=['Last_Update'])"
   ]
  },
  {
   "cell_type": "code",
   "execution_count": null,
   "metadata": {
    "_kg_hide-input": true
   },
   "outputs": [],
   "source": [
    "# new dataset \n",
    "df_covid19 = df_covid19.drop([\"People_Tested\",\"People_Hospitalized\",\"UID\",\"ISO3\",\"Mortality_Rate\"],axis =1)\n",
    "df_covid19.head(2)"
   ]
  },
  {
   "cell_type": "code",
   "execution_count": null,
   "metadata": {},
   "outputs": [],
   "source": [
    "df_confirmed.head(2)"
   ]
  },
  {
   "cell_type": "code",
   "execution_count": null,
   "metadata": {
    "_kg_hide-input": true,
    "_kg_hide-output": true
   },
   "outputs": [],
   "source": [
    "df_table = df_table[df_table[\"continent\"] != \"Others\"]"
   ]
  },
  {
   "cell_type": "code",
   "execution_count": null,
   "metadata": {
    "_kg_hide-input": true,
    "_kg_hide-output": true
   },
   "outputs": [],
   "source": [
    "df_deaths[df_deaths[\"continent\" ]== 'Others']"
   ]
  },
  {
   "cell_type": "code",
   "execution_count": null,
   "metadata": {
    "_kg_hide-input": true,
    "_kg_hide-output": true
   },
   "outputs": [],
   "source": [
    "# df_active = df_confirmed.copy()\n",
    "# df_active.iloc[:,5:] = df_active.iloc[:,5:] - df_recovered.iloc[:,5:] - df_deaths.iloc[:,5:]\n",
    "# df_active.head(5)"
   ]
  },
  {
   "cell_type": "code",
   "execution_count": null,
   "metadata": {
    "_kg_hide-input": true,
    "_kg_hide-output": true
   },
   "outputs": [],
   "source": [
    "df_confirmed = df_confirmed.replace(np.nan, '', regex=True)\n",
    "df_deaths = df_deaths.replace(np.nan, '', regex=True)\n",
    "# df_recovered = df_recovered.replace(np.nan, '', regex=True)\n",
    "# df_active = df_active.replace(np.nan, '', regex=True)"
   ]
  },
  {
   "cell_type": "markdown",
   "metadata": {},
   "source": [
    " # Defining Functions\n",
    " <hr>\n",
    "* plot_params()\n",
    "* visualize_covid_cases()\n",
    "* get_mortality_rate()"
   ]
  },
  {
   "cell_type": "code",
   "execution_count": null,
   "metadata": {
    "_kg_hide-input": true,
    "_kg_hide-output": true
   },
   "outputs": [],
   "source": [
    "def plot_params(ax,axis_label= None, plt_title = None,label_size=15, axis_fsize = 15, title_fsize = 20, scale = 'linear' ):\n",
    "    # Tick-Parameters\n",
    "    ax.xaxis.set_minor_locator(ticker.AutoMinorLocator())\n",
    "    ax.yaxis.set_minor_locator(ticker.AutoMinorLocator())\n",
    "    ax.tick_params(which='both', width=1,labelsize=label_size)\n",
    "    ax.tick_params(which='major', length=6)\n",
    "    ax.tick_params(which='minor', length=3, color='0.8')\n",
    "    \n",
    "    # Grid\n",
    "    plt.grid(lw = 1, ls = '-', c = \"0.7\", which = 'major')\n",
    "    plt.grid(lw = 1, ls = '-', c = \"0.9\", which = 'minor')\n",
    "\n",
    "    # Plot Title\n",
    "    plt.title( plt_title,{'fontsize':title_fsize})\n",
    "    \n",
    "    # Yaxis sacle\n",
    "    plt.yscale(scale)\n",
    "    plt.minorticks_on()\n",
    "    # Plot Axes Labels\n",
    "    xl = plt.xlabel(axis_label[0],fontsize = axis_fsize)\n",
    "    yl = plt.ylabel(axis_label[1],fontsize = axis_fsize)\n",
    "    \n",
    "def visualize_covid_cases(confirmed, deaths, continent=None , country = None , state = None, period = None, figure = None, scale = \"linear\"):\n",
    "    x = 0\n",
    "    if figure == None:\n",
    "        f = plt.figure(figsize=(10,10))\n",
    "        # Sub plot\n",
    "        ax = f.add_subplot(111)\n",
    "    else :\n",
    "        f = figure[0]\n",
    "        # Sub plot\n",
    "        ax = f.add_subplot(figure[1],figure[2],figure[3])\n",
    "    ax.set_axisbelow(True)\n",
    "    plt.tight_layout(pad=10, w_pad=5, h_pad=5)\n",
    "    \n",
    "    stats = [confirmed, deaths]\n",
    "    label = [\"Confirmed\", \"Deaths\"]\n",
    "    \n",
    "    if continent != None:\n",
    "        params = [\"continent\",continent]\n",
    "    elif country != None:\n",
    "        params = [\"country\",country]\n",
    "    else: \n",
    "        params = [\"All\", \"All\"]\n",
    "    color = [\"darkcyan\",\"crimson\"]\n",
    "    marker_style = dict(linewidth=3, linestyle='-', marker='o',markersize=4, markerfacecolor='#ffffff')\n",
    "    for i,stat in enumerate(stats):\n",
    "        if params[1] == \"All\" :\n",
    "            cases = np.sum(np.asarray(stat.iloc[:,5:]),axis = 0)[x:]\n",
    "        else :\n",
    "            cases = np.sum(np.asarray(stat[stat[params[0]] == params[1]].iloc[:,5:]),axis = 0)[x:]\n",
    "        date = np.arange(1,cases.shape[0]+1)[x:]\n",
    "        plt.plot(date,cases,label = label[i]+\" (Total : \"+str(cases[-1])+\")\",color=color[i],**marker_style)\n",
    "        plt.fill_between(date,cases,color=color[i],alpha=0.3)\n",
    "\n",
    "    if params[1] == \"All\" :\n",
    "        Total_confirmed = np.sum(np.asarray(stats[0].iloc[:,5:]),axis = 0)[x:]\n",
    "        Total_deaths = np.sum(np.asarray(stats[1].iloc[:,5:]),axis = 0)[x:]\n",
    "    else :\n",
    "        Total_confirmed =  np.sum(np.asarray(stats[0][stat[params[0]] == params[1]].iloc[:,5:]),axis = 0)[x:]\n",
    "        Total_deaths = np.sum(np.asarray(stats[1][stat[params[0]] == params[1]].iloc[:,5:]),axis = 0)[x:]\n",
    "        \n",
    "    text = \"From \"+stats[0].columns[5]+\" to \"+stats[0].columns[-1]+\"\\n\"\n",
    "    text += \"Mortality rate : \"+ str(int(Total_deaths[-1]/(Total_confirmed[-1])*10000)/100)+\"\\n\"\n",
    "    text += \"Last 5 Days:\\n\"\n",
    "    text += \"Confirmed : \" + str(Total_confirmed[-1] - Total_confirmed[-6])+\"\\n\"\n",
    "    text += \"Deaths : \" + str(Total_deaths[-1] - Total_deaths[-6])+\"\\n\"\n",
    "    text += \"Last 24 Hours:\\n\"\n",
    "    text += \"Confirmed : \" + str(Total_confirmed[-1] - Total_confirmed[-2])+\"\\n\"\n",
    "    text += \"Deaths : \" + str(Total_deaths[-1] - Total_deaths[-2])+\"\\n\"\n",
    "    \n",
    "    plt.text(0.02, 0.78, text, fontsize=15, horizontalalignment='left', verticalalignment='top', transform=ax.transAxes,bbox=dict(facecolor='white', alpha=0.4))\n",
    "    \n",
    "    # Plot Axes Labels\n",
    "    axis_label = [\"Days (\"+df_confirmed.columns[5]+\" - \"+df_confirmed.columns[-1]+\")\",\"No of Cases\"]\n",
    "    \n",
    "    # Plot Parameters\n",
    "    plot_params(ax,axis_label,scale = scale)\n",
    "    \n",
    "    # Plot Title\n",
    "    if params[1] == \"All\" :\n",
    "        plt.title(\"COVID-19 Cases World\",{'fontsize':25})\n",
    "    else:   \n",
    "        plt.title(\"COVID-19: \"+params[1] ,{'fontsize':25})\n",
    "        \n",
    "    # Legend Location\n",
    "    l = plt.legend(loc= \"best\",fontsize = 15)\n",
    "    \n",
    "    if figure == None:\n",
    "        plt.show()\n",
    "        \n",
    "def get_total_cases(cases, country = \"All\"):\n",
    "    if(country == \"All\") :\n",
    "        return np.sum(np.asarray(cases.iloc[:,5:]),axis = 0)[-1]\n",
    "    else :\n",
    "        return np.sum(np.asarray(cases[cases[\"country\"] == country].iloc[:,5:]),axis = 0)[-1]\n",
    "    \n",
    "def get_mortality_rate(confirmed,deaths, continent = None, country = None):\n",
    "    if continent != None:\n",
    "        params = [\"continent\",continent]\n",
    "    elif country != None:\n",
    "        params = [\"country\",country]\n",
    "    else :\n",
    "        params = [\"All\", \"All\"]\n",
    "    \n",
    "    if params[1] == \"All\" :\n",
    "        Total_confirmed = np.sum(np.asarray(confirmed.iloc[:,5:]),axis = 0)\n",
    "        Total_deaths = np.sum(np.asarray(deaths.iloc[:,5:]),axis = 0)\n",
    "        mortality_rate = np.round((Total_deaths/(Total_confirmed+1.01))*100,2)\n",
    "    else :\n",
    "        Total_confirmed =  np.sum(np.asarray(confirmed[confirmed[params[0]] == params[1]].iloc[:,5:]),axis = 0)\n",
    "        Total_deaths = np.sum(np.asarray(deaths[deaths[params[0]] == params[1]].iloc[:,5:]),axis = 0)\n",
    "        mortality_rate = np.round((Total_deaths/(Total_confirmed+1.01))*100,2)\n",
    "    \n",
    "    return np.nan_to_num(mortality_rate)\n",
    "def dd(date1,date2):\n",
    "    return (datetime.strptime(date1,'%m/%d/%y') - datetime.strptime(date2,'%m/%d/%y')).days\n",
    "\n",
    "\n",
    "out = \"\"#+\"output/\""
   ]
  },
  {
   "cell_type": "markdown",
   "metadata": {},
   "source": [
    "# Correlation Analysis\n",
    "<hr>\n",
    "Plotting Heat map of correlation of confirmed cases, recovered cases, deaths and active cases.\n",
    "\n",
    "### Country wise Correlation"
   ]
  },
  {
   "cell_type": "code",
   "execution_count": null,
   "metadata": {},
   "outputs": [],
   "source": [
    "df_countries_cases.iloc[:,:].corr().style.background_gradient(cmap='Reds').format(\"{:.3f}\")"
   ]
  },
  {
   "cell_type": "markdown",
   "metadata": {},
   "source": [
    "### Continent Wise Correlation"
   ]
  },
  {
   "cell_type": "code",
   "execution_count": null,
   "metadata": {},
   "outputs": [],
   "source": [
    "df_continents_cases.iloc[:,:].corr().style.background_gradient(cmap='Reds').format(\"{:.3f}\")"
   ]
  },
  {
   "cell_type": "markdown",
   "metadata": {},
   "source": [
    "# Visualization on Map\n",
    "<hr>"
   ]
  },
  {
   "cell_type": "code",
   "execution_count": null,
   "metadata": {
    "_kg_hide-input": true
   },
   "outputs": [],
   "source": [
    "world_map = folium.Map(location=[10,0], tiles=\"cartodbpositron\", zoom_start=2,max_zoom=6,min_zoom=2)\n",
    "for i in range(0,len(df_confirmed)):\n",
    "    folium.Circle(\n",
    "        location=[df_confirmed.iloc[i]['Lat'], df_confirmed.iloc[i]['Long']],\n",
    "        tooltip = \"<h5 style='text-align:center;font-weight: bold'>\"+df_confirmed.iloc[i]['country']+\"</h5>\"+\n",
    "                    \"<div style='text-align:center;'>\"+str(np.nan_to_num(df_confirmed.iloc[i]['state']))+\"</div>\"+\n",
    "                    \"<hr style='margin:10px;'>\"+\n",
    "                    \"<ul style='color: #444;list-style-type:circle;align-item:left;padding-left:20px;padding-right:20px'>\"+\n",
    "        \"<li>Confirmed: \"+str(df_confirmed.iloc[i,-1])+\"</li>\"+\n",
    "        \"<li>Deaths:   \"+str(df_deaths.iloc[i,-1])+\"</li>\"+\n",
    "        \"<li>Mortality Rate:   \"+str(np.round(df_deaths.iloc[i,-1]/(df_confirmed.iloc[i,-1]+1.00001)*100,2))+\"</li>\"+\n",
    "        \"</ul>\"\n",
    "        ,\n",
    "        radius=(int((np.log(df_confirmed.iloc[i,-1]+1.00001)))+0.2)*50000,\n",
    "        color='#ff6600',\n",
    "        fill_color='#ff8533',\n",
    "        fill=True).add_to(world_map)\n",
    "\n",
    "world_map\n"
   ]
  },
  {
   "cell_type": "markdown",
   "metadata": {},
   "source": [
    "## Global Recovered Heat Map \n",
    "<hr>"
   ]
  },
  {
   "cell_type": "code",
   "execution_count": null,
   "metadata": {
    "_kg_hide-input": true
   },
   "outputs": [],
   "source": [
    "temp_df = pd.DataFrame(df_countries_cases['Recovered'])\n",
    "temp_df = temp_df.reset_index()\n",
    "fig = px.choropleth(temp_df, locations=\"country\",\n",
    "                    color=np.log10(temp_df.iloc[:,-1]+1), # lifeExp is a column of gapminder\n",
    "                    hover_name=\"country\", # column to add to hover information\n",
    "                    hover_data=[\"Recovered\"],\n",
    "                    color_continuous_scale=px.colors.sequential.Plasma,locationmode=\"country names\")\n",
    "fig.update_geos(fitbounds=\"locations\", visible=False)\n",
    "fig.update_layout(title_text=\"Recovered Heat Map (Log Scale)\")\n",
    "fig.update_coloraxes(colorbar_title=\"Recovered\",colorscale=\"Greens\")\n",
    "# fig.to_image(\"Global Heat Map deaths.png\")\n",
    "fig.show()"
   ]
  },
  {
   "cell_type": "markdown",
   "metadata": {},
   "source": [
    "#### Loading Model"
   ]
  },
  {
   "cell_type": "code",
   "execution_count": null,
   "metadata": {
    "_kg_hide-input": true,
    "_kg_hide-output": true
   },
   "outputs": [],
   "source": [
    "model = models.load_model(\"model_confirmed_v4.h5\")\n",
    "model.summary()"
   ]
  },
  {
   "cell_type": "code",
   "execution_count": null,
   "metadata": {
    "_kg_hide-input": true
   },
   "outputs": [],
   "source": [
    "lakh = 100000\n",
    "prediction_days = 10\n",
    "\n",
    "temp_data = df_confirmed.iloc[:,5:].sum(axis =0)\n",
    "data = np.power(10,model.predict(np.arange(1,len(temp_data)+prediction_days+1)))\n",
    "f = plt.figure(figsize=(15,10))\n",
    "ax = f.add_subplot(111)\n",
    "\n",
    "date = np.arange(0,len(temp_data))\n",
    "\n",
    "marker_style = dict(linewidth=3, linestyle='-', marker='o',markersize=7, markerfacecolor='#ffffff')\n",
    "plt.plot(date,temp_data/lakh,\"-.\",color=\"darkcyan\",**marker_style, label=\"Actual Curve\")\n",
    "\n",
    "date = np.arange(0,len(data))\n",
    "plt.plot(date,data/lakh,\"-.\",color=\"orangered\",label=\"Predicted Curve\")\n",
    "\n",
    "nextdays = [(datetime.strptime(d[-1],'%d %b')+timedelta(days=i)).strftime(\"%d %b\") for i in range(1,prediction_days+1)]\n",
    "total = d + nextdays\n",
    "\n",
    "text = \"Prediction for next \"+str(prediction_days) +\" days:\\n\"\n",
    "for i in range(prediction_days):\n",
    "    text += nextdays[i]+\" : \"+str(np.round(data[-1*(prediction_days-i)],-3)[0]/lakh)+\" L\\n\"\n",
    "\n",
    "plt.text(0.02, 0.78, text, fontsize=17, horizontalalignment='left', verticalalignment='top', transform=ax.transAxes,bbox=dict(facecolor='white', alpha=0.4))\n",
    "\n",
    "# X-axis\n",
    "plt.xticks(list(np.arange(0,len(total),int(len(total)/5))),total[:-1:int(len(total)/5)]+[total[-1]])\n",
    "\n",
    "# Tick-Parameters\n",
    "ax.xaxis.set_minor_locator(ticker.AutoMinorLocator())\n",
    "ax.yaxis.set_minor_locator(ticker.AutoMinorLocator())\n",
    "ax.tick_params(which='both', width=1,labelsize=14)\n",
    "ax.tick_params(which='major', length=6)\n",
    "ax.tick_params(which='minor', length=3, color='0.8')\n",
    "\n",
    "# Grid\n",
    "plt.grid(lw = 1, ls = '-', c = \"0.7\", which = 'major')\n",
    "plt.grid(lw = 1, ls = '-', c = \"0.9\", which = 'minor')\n",
    "\n",
    "# Plot Title\n",
    "plt.title(\"COVID-19 Next 10 day Prediction Curve-Global Confirmed Cases\",{'fontsize':22})\n",
    "\n",
    "# Axis Lable\n",
    "plt.xlabel(\"Date\",fontsize =18)\n",
    "plt.ylabel(\"Number of Confirmed Cases (Lakh)\",fontsize =18)\n",
    "\n",
    "# plt.yscale(\"log\")\n",
    "plt.legend(fontsize =18)\n",
    "plt.tick_params(labelsize = 13) \n",
    "plt.savefig(out+\"Prediction Curve-Confirmed.png\")\n",
    "plt.show()"
   ]
  },
  {
   "cell_type": "markdown",
   "metadata": {},
   "source": [
    "#### Loading Model"
   ]
  },
  {
   "cell_type": "code",
   "execution_count": null,
   "metadata": {
    "_kg_hide-input": true,
    "_kg_hide-output": true
   },
   "outputs": [],
   "source": [
    "model2 = models.load_model(\"model_deaths_v5.h5\")\n",
    "model2.summary()"
   ]
  },
  {
   "cell_type": "code",
   "execution_count": null,
   "metadata": {
    "_kg_hide-input": true
   },
   "outputs": [],
   "source": [
    "thousand = 1000\n",
    "prediction_days = 10\n",
    "\n",
    "temp_data = df_deaths.iloc[:,5:].sum(axis =0)\n",
    "data = np.power(10,model2.predict(np.arange(1,len(temp_data)+prediction_days+1)))\n",
    "f = plt.figure(figsize=(15,10))\n",
    "ax = f.add_subplot(111)\n",
    "\n",
    "\n",
    "date = np.arange(0,len(temp_data))\n",
    "# xnew = np.linspace(date.min(), date.max(), 10)\n",
    "# spl = make_interp_spline(date, t, k=1)  # type: BSpline\n",
    "# power_smooth = spl(xnew)\n",
    "\n",
    "marker_style = dict(linewidth=3, linestyle='-', marker='o',markersize=7, markerfacecolor='#ffffff')\n",
    "plt.plot(date,temp_data/thousand,\"-.\",color=\"maroon\",**marker_style, label=\"Actual Curve\")\n",
    "\n",
    "date = np.arange(0,len(data))\n",
    "plt.plot(date,data/thousand,\"-.\",color=\"orangered\",label=\"Predicted Curve\")\n",
    "\n",
    "nextdays = [(datetime.strptime(d[-1],'%d %b')+timedelta(days=i)).strftime(\"%d %b\") for i in range(1,prediction_days+1)]\n",
    "total =d+nextdays\n",
    "\n",
    "text = \"Prediction for next \"+str(prediction_days) +\" days:\\n\"\n",
    "for i in range(prediction_days):\n",
    "    text += nextdays[i]+\" : \"+str(np.round(data[-1*(prediction_days-i)],-1)[0]/thousand)+\"K\\n\"\n",
    "\n",
    "plt.text(0.02, 0.78, text, fontsize=17, horizontalalignment='left', verticalalignment='top', transform=ax.transAxes,bbox=dict(facecolor='white', alpha=0.4))\n",
    "\n",
    "# X-axis\n",
    "plt.xticks(list(np.arange(0,len(total),int(len(total)/5))),total[:-1:int(len(total)/5)]+[total[-1]])\n",
    "\n",
    "# Tick-Parameters\n",
    "ax.xaxis.set_minor_locator(ticker.AutoMinorLocator())\n",
    "ax.yaxis.set_minor_locator(ticker.AutoMinorLocator())\n",
    "ax.tick_params(which='both', width=1,labelsize=12)\n",
    "ax.tick_params(which='major', length=6)\n",
    "ax.tick_params(which='minor', length=3, color='0.8')\n",
    "\n",
    "# Grid\n",
    "plt.grid(lw = 1, ls = '-', c = \"0.7\", which = 'major')\n",
    "plt.grid(lw = 1, ls = '-', c = \"0.9\", which = 'minor')\n",
    "\n",
    "# Plot Title\n",
    "plt.title(\"COVID-19 Next 10 day Prediction Curve-Global Deaths Cases\",{'fontsize':22})\n",
    "\n",
    "# Axis Lable\n",
    "plt.xlabel(\"Date\",fontsize =18)\n",
    "plt.ylabel(\"Number of Deaths Cases (Thousand)\",fontsize =18)\n",
    "\n",
    "# plt.yscale(\"log\")\n",
    "plt.legend(fontsize =18)\n",
    "plt.tick_params(labelsize = 13) \n",
    "plt.savefig(out+\"Prediction Curve2.png\")\n",
    "plt.show()"
   ]
  },
  {
   "cell_type": "markdown",
   "metadata": {},
   "source": [
    "## Tabulation of prediction and actual figure after 10 June-Global"
   ]
  },
  {
   "cell_type": "code",
   "execution_count": null,
   "metadata": {
    "_kg_hide-input": true
   },
   "outputs": [],
   "source": [
    "start_date = \"6/10/20\"\n",
    "sd= dd(start_date,\"1/22/20\")\n",
    "nextdays = [(datetime.strptime(d[-1],'%d %b')+timedelta(days=i)).strftime(\"%d %b\") for i in range(1,prediction_days+1)]\n",
    "total =d+nextdays\n",
    "data_confirmed = np.power(10,model.predict(np.arange(1,len(data_y)+prediction_days+1)))\n",
    "data_deaths = np.power(10,model2.predict(np.arange(1,len(data_y)+prediction_days+1)))\n",
    "pd.DataFrame([total[sd:],\n",
    "              list(np.int64(np.round(data_confirmed[sd:].reshape(-1)/lakh,2)*lakh)),\n",
    "              list(df_confirmed.iloc[:,5:].sum(axis =0)[sd:]),\n",
    "              list(np.int64(np.round(data_deaths[sd:].reshape(-1)/thousand,2)*thousand)),\n",
    "             list(df_deaths.iloc[:,5:].sum(axis =0)[sd:])],\n",
    "             [\"Date\",\"Confirmed(Predicted)\",\"Confirmed(Actual)\",\"Deaths(Predicted)\",\"Deaths(Actual)\"]\n",
    "            ).transpose().set_index(\"Date\")"
   ]
  },
  {
   "cell_type": "markdown",
   "metadata": {},
   "source": [
    "## Total Test vs Positive (per 100 Test)"
   ]
  },
  {
   "cell_type": "code",
   "execution_count": null,
   "metadata": {
    "_kg_hide-input": true
   },
   "outputs": [],
   "source": [
    "fig = px.scatter(df_test, y=df_test.loc[:,\"MR\"],\n",
    "                    x= df_test.loc[:,\"Positive\"],\n",
    "                    color= \"country\", hover_name=\"country\",\n",
    "                    hover_data=[\"confirmed\",\"deaths\",\"Cumulative total\"],\n",
    "                    color_continuous_scale=px.colors.sequential.Plasma,\n",
    "                    title='COVID-19: Test(Positive) vs Mortality rate',\n",
    "                    size = np.power(df_test[\"confirmed\"]+1,0.3)-0.5,\n",
    "                    size_max = 30,\n",
    "                    height =600,\n",
    "                    )\n",
    "fig.update_coloraxes(colorscale=\"hot\")\n",
    "fig.update(layout_coloraxis_showscale=False)\n",
    "fig.update_yaxes(title_text=\"Mortality Rate (%)\")\n",
    "fig.update_xaxes(title_text=\"Tests Positive (%)\")\n",
    "fig.show()"
   ]
  },
  {
   "cell_type": "markdown",
   "metadata": {},
   "source": [
    "# COVID-19 Case (Confirmed and Deaths) Percent Split in Different countries (Pie Viz)\n",
    "<hr>\n",
    "These pie plots are showing the proportion of the spread of this Pandemic across the world. Each pie is showing a few major contributor countries, and rest countries are shown as \"Others\". Criteria : \n",
    "* Confirmed Cases: Any countries reported more than 20000 confirmed cases are shown the rest of the countries are under \"others\" Category.\n",
    "* Deaths: Any Countries reported more than 1000 deaths are shown rest of the countries are under \"others\" Category.\n",
    "* Active Cases: Any Countries reported more than 15000 active cases are shown the rest of the countries are under \"others\" Category.\n",
    "* Recovered Cases: Any Countries reported more than 2000 recoveries are shown rest of the countries are under \"others\" Category."
   ]
  },
  {
   "cell_type": "code",
   "execution_count": null,
   "metadata": {
    "_kg_hide-input": true,
    "scrolled": false
   },
   "outputs": [],
   "source": [
    "rows = 4\n",
    "f = plt.figure(figsize=(15,10*rows))\n",
    "\n",
    "stats = [df_covid19.loc[:,['country','Confirmed']],df_covid19.loc[:,['country','Deaths']],df_covid19.loc[:,['country','Active']],df_covid19.loc[:,['country','Recovered']]]\n",
    "label = [\"Confirmed\",\"Deaths\",\"Active\",\"Recovered\"]\n",
    "threshold = [50000,5000,20000,30000]\n",
    "for i, stat in enumerate(stats):\n",
    "    plt.tight_layout()\n",
    "    df_countries = stat.groupby([\"country\"]).sum()\n",
    "    df_countries = df_countries.sort_values(df_countries.columns[-1],ascending= False)\n",
    "    others = df_countries[df_countries[df_countries.columns[-1]] < threshold[i] ].sum()[-1]\n",
    "    df_countries = df_countries[df_countries[df_countries.columns[-1]] > threshold[i]]\n",
    "    df_countries = df_countries[df_countries.columns[-1]]\n",
    "    df_countries[\"others\"] = others\n",
    "    labels = [df_countries.index[i] +\" (\" + str(int(df_countries[i])) +\") \"for i in range(df_countries.shape[0])]\n",
    "\n",
    "    ax = f.add_subplot(rows,1,i+1)\n",
    "    plt.pie(df_countries, labels=labels,autopct='%1.1f%%',pctdistance=0.85, labeldistance=1.2,textprops = {'fontsize':10.5})\n",
    "    my_circle=plt.Circle( (0,0), 0.7, color='white')\n",
    "    p=plt.gcf()\n",
    "    p.gca().add_artist(my_circle)\n",
    "    plt.text(0.5,0.5,\"World Total \"+label[i]+ \" COVID-19 Cases\\n\"+str(stat.sum().values[1]), horizontalalignment='center',verticalalignment='center',transform=ax.transAxes, size=18, alpha = 0.6)\n",
    "\n",
    "\n",
    "plt.show()\n"
   ]
  },
  {
   "cell_type": "markdown",
   "metadata": {},
   "source": [
    "# COVID-19 Mortality Rate Variation Over Period of Time\n",
    "<hr>\n",
    "For any epidemic the one of the most important evaluation is Mortality Rate. It is the measure of number of deaths in a particular population during a specific interval.\n",
    "* 1st curve shows how the mortality rate varies from 22 JAN 2020 to till date all over the world. \n",
    "* 2nd Curve shows the variation of mortality rate in different continents over time.\n"
   ]
  },
  {
   "cell_type": "code",
   "execution_count": null,
   "metadata": {
    "_kg_hide-input": true
   },
   "outputs": [],
   "source": [
    "df_continents= df_confirmed.groupby([\"continent\"]).sum()\n",
    "continents = df_continents.sort_values(df_continents.columns[-1],ascending = False).index\n",
    "continents = [\"All\"]+list(continents)\n",
    "\n",
    "cols =1\n",
    "rows = 2\n",
    "axis_label = [\"Days (\"+df_confirmed.columns[5]+\" - \"+df_confirmed.columns[-1]+\")\",\"Mortality Rate (of 100)\"]\n",
    "\n",
    "f = plt.figure(figsize=(15,10*rows))\n",
    "\n",
    "#SubPlot 1\n",
    "ax = f.add_subplot(211)\n",
    "mortality_rate = get_mortality_rate(df_confirmed,df_deaths,continent=continents[0])\n",
    "plt.plot(np.arange(1,mortality_rate.shape[0]+1),mortality_rate,label = \"World : Current Mortality Rate \"+str(mortality_rate[-1]),linewidth=3)\n",
    "\n",
    "nextdays = [(datetime.strptime(d[-1],'%d %b')+timedelta(days=i)).strftime(\"%d %b\") for i in range(1,prediction_days+1)]\n",
    "total =d+nextdays\n",
    "\n",
    "# X-axis\n",
    "plt.xticks(list(np.arange(0,len(total),int(len(total)/5))),total[:-1:int(len(total)/5)]+[total[-1]])\n",
    "\n",
    "plt_title = \"COVID-19: World Mortality Rate Curve\"\n",
    "plot_params(ax,axis_label,plt_title)\n",
    "# Legend Location\n",
    "l = plt.legend(loc= \"best\")\n",
    "\n",
    "\n",
    "#SubPlot 2\n",
    "ax = f.add_subplot(212)\n",
    "for i, continent in enumerate(continents[1:]):\n",
    "    mortality_rate = get_mortality_rate(df_confirmed,df_deaths,continent=continent)\n",
    "#     mortality_rate = mortality_rate.replace(np.nan, 0, regex=True)\n",
    "    plt.plot(np.arange(1+mortality_rate[mortality_rate == 0].shape[0],mortality_rate[mortality_rate == 0].shape[0]+mortality_rate[mortality_rate > 0].shape[0]+1),mortality_rate[mortality_rate > 0],label = continents[i+1]+\" \"+str(mortality_rate[-1]),linewidth=3)\n",
    "\n",
    "\n",
    "\n",
    "# X-axis\n",
    "plt.xticks(list(np.arange(0,len(total),int(len(total)/5))),total[:-1:int(len(total)/5)]+[total[-1]])\n",
    "    \n",
    "plt_title = \"COVID-19: Mortality Rate Curve for all Continents\"\n",
    "plot_params(ax,axis_label,plt_title)\n",
    "\n",
    "# Legend Location\n",
    "l = plt.legend(loc= \"best\")\n",
    "\n",
    "plt.minorticks_on()\n",
    "plt.savefig(out+'Mortality rate.png')\n",
    "plt.show()\n"
   ]
  },
  {
   "cell_type": "markdown",
   "metadata": {},
   "source": [
    "### COVID-19: Change in Mortality Rate of Each Countries Over Time"
   ]
  },
  {
   "cell_type": "code",
   "execution_count": null,
   "metadata": {
    "_kg_hide-input": true,
    "scrolled": false
   },
   "outputs": [],
   "source": [
    "\n",
    "df_data = df_table.groupby(['Last_Update', 'Country_Region'])['Confirmed', 'Deaths','continent'].max().reset_index().fillna(0)\n",
    "df_data[\"Last_Update\"] = pd.to_datetime( df_data[\"Last_Update\"]).dt.strftime('%m/%d/%Y')\n",
    "\n",
    "fig = px.scatter(df_data, y=100*df_data[\"Deaths\"]/(df_data[\"Confirmed\"]+1),\n",
    "                    x= df_data[\"Confirmed\"]+1,\n",
    "                    range_y = [-1,18],\n",
    "                    range_x = [1,df_data[\"Confirmed\"].max()+10000],\n",
    "                    color= \"continent\", hover_name=\"Country_Region\",\n",
    "                    hover_data=[\"Confirmed\",\"Deaths\"],\n",
    "                    range_color= [0, max(np.power(df_data[\"Confirmed\"],0.3))], \n",
    "                    animation_frame=\"Last_Update\", \n",
    "                    animation_group=\"Country_Region\",\n",
    "                    color_continuous_scale=px.colors.sequential.Plasma,\n",
    "                    title='COVID-19: Change in Mortality Rate of Each Countries Over Time',\n",
    "                    size = np.power(df_data[\"Confirmed\"]+1,0.3)-0.5,\n",
    "                    size_max = 30,\n",
    "                    log_x=True,\n",
    "                    height =700,\n",
    "                    )\n",
    "fig.update_coloraxes(colorscale=\"hot\")\n",
    "fig.update(layout_coloraxis_showscale=False)\n",
    "fig.update_xaxes(title_text=\"Confirmed Cases (Log Scale)\")\n",
    "fig.update_yaxes(title_text=\"Mortality Rate (%)\")\n",
    "fig.show()"
   ]
  },
  {
   "cell_type": "markdown",
   "metadata": {},
   "source": [
    "# Comparision of Mortality and Recovery Rate \n",
    "<hr>\n",
    "**Note :**\n",
    "* **Depricated: [Check out version 17](https://www.kaggle.com/tarunkr/covid-19-case-study-analysis-viz-comparisons?scriptVersionId=30677812)**\n",
    "\n",
    "In any Epidemic or Pandemic, the study of Mortality Rate and Recovery Rate has an important role. This plot compares the variation of MR and RR over time through the World. \n",
    "\n",
    "**Scale : LOG**"
   ]
  },
  {
   "cell_type": "code",
   "execution_count": null,
   "metadata": {
    "_kg_hide-input": true,
    "_kg_hide-output": true
   },
   "outputs": [],
   "source": [
    "# cols =1\n",
    "# rows = 2\n",
    "# axis_label = [\"Days (\"+df_confirmed.columns[5]+\" - \"+df_confirmed.columns[-1]+\")\",\"Mortality Rate/ Recovery Rate (of 100)\"]\n",
    "\n",
    "# f = plt.figure(figsize=(15,10*rows))\n",
    "\n",
    "# #SubPlot 1\n",
    "# ax = f.add_subplot(211)\n",
    "# mortality_rate = get_mortality_rate(df_confirmed,df_deaths,continent=continents[0])\n",
    "# recovered_rate = get_mortality_rate(df_confirmed,df_recovered,continent=continents[0])\n",
    "# plt.plot(np.arange(1,mortality_rate.shape[0]+1),mortality_rate,label = \"World : Current Mortality Rate \"+str(mortality_rate[-1]))\n",
    "# plt.plot(np.arange(1,recovered_rate.shape[0]+1),recovered_rate,label = \"World : Current Recovery Rate \"+str(recovered_rate[-1]))\n",
    "\n",
    "# plt_title = \"COVID-19: World Mortality and Recovery Rate Comparision\"\n",
    "# plot_params(ax,axis_label,plt_title,scale = \"log\")\n",
    "# # Legend Location\n",
    "# l = plt.legend(loc= \"best\")"
   ]
  },
  {
   "cell_type": "markdown",
   "metadata": {},
   "source": [
    "# Cumulative Confirmed Cases and Cumulative Recovery Vs Cumulative Deaths Analysis \n",
    "<hr>\n",
    "The variation of Cumulative Confirmed Cases and Cumulative Recovery with Cumulative Deaths can show a trend. These 2 curves depict the same. Also, these curves should be a straight line as shown in the 1st curve, but the 2nd curve is not showing that trend, and as the number of recovered cases is increasing, death is increasing at a faster rate.\n",
    "* 1st curve: Cumulative Confirmed Cases VS Cumulative Deaths \n",
    "* 2nd curve: Cululative Recovery VS Cumulative Deaths\n",
    "\n",
    "**NOTE :**\n",
    "* ** Cumulative Recovery Vs Cumulative Deaths has been depricated. [Check out version 17](https://www.kaggle.com/tarunkr/covid-19-case-study-analysis-viz-comparisons?scriptVersionId=30677812)**"
   ]
  },
  {
   "cell_type": "code",
   "execution_count": null,
   "metadata": {
    "_kg_hide-input": true
   },
   "outputs": [],
   "source": [
    "cols =1\n",
    "rows = 2\n",
    "\n",
    "f = plt.figure(figsize=(15,10*rows))\n",
    "\n",
    "# SubPlot 1\n",
    "ax = f.add_subplot(211)\n",
    "plt.plot(np.sum(np.asarray(df_confirmed.iloc[:,5:]),axis = 0),np.sum(np.asarray(df_deaths.iloc[:,5:]),axis = 0))\n",
    "\n",
    "axis_label = [\"Cumulative Confirmed Cases\",\"Cumulative Deaths\"]\n",
    "plt_title = \"COVID-19: World - \\nCumulative Confirmed Cases Vs Cumulative Deaths Curve\"\n",
    "plot_params(ax,axis_label,plt_title)\n",
    "\n",
    "\n",
    "# # SubPlot 2\n",
    "# ax = f.add_subplot(212)\n",
    "# mortality_rate = get_mortality_rate(df_confirmed,df_deaths,continent=continents[0])\n",
    "# plt.plot(np.sum(np.asarray(df_recovered.iloc[:,5:]),axis = 0),np.sum(np.asarray(df_deaths.iloc[:,5:]),axis = 0))\n",
    "\n",
    "# axis_label = [\"Cumulative Recoveries\",\"Cumulative Deaths\"]\n",
    "# plt_title = \"COVID-19: World - Cumulative Recovery Vs Cumulative Deaths Curve\"\n",
    "\n",
    "# plot_params(ax,axis_label,plt_title)\n",
    "plt.minorticks_on()\n",
    "plt.savefig(out+'Cumulative Confirmed Cases Vs Cumulative Deaths Curve.png')\n",
    "plt.show()"
   ]
  },
  {
   "cell_type": "markdown",
   "metadata": {},
   "source": [
    "### Variation of Deaths vs Confirmed cases of different cuntries over time"
   ]
  },
  {
   "cell_type": "code",
   "execution_count": null,
   "metadata": {
    "_kg_hide-input": true,
    "scrolled": false
   },
   "outputs": [],
   "source": [
    "df_data = df_table.groupby(['Last_Update', 'Country_Region'])['Confirmed', 'Deaths','continent'].max().reset_index().fillna(0)\n",
    "df_data[\"Last_Update\"] = pd.to_datetime( df_data[\"Last_Update\"]).dt.strftime('%m/%d/%Y')\n",
    "\n",
    "fig = px.scatter(df_data, y=df_data[\"Deaths\"],\n",
    "                    x= df_data[\"Confirmed\"]+1,\n",
    "                    range_y = [1,df_data[\"Deaths\"].max()+1000],\n",
    "                    range_x = [1,df_data[\"Confirmed\"].max()+10000],\n",
    "                    color= \"continent\", hover_name=\"Country_Region\",\n",
    "                    hover_data=[\"Confirmed\",\"Deaths\"],\n",
    "                    range_color= [0, max(np.power(df_data[\"Confirmed\"],0.3))], \n",
    "                    animation_frame=\"Last_Update\", \n",
    "                    animation_group=\"Country_Region\",\n",
    "                    color_continuous_scale=px.colors.sequential.Plasma,\n",
    "                    title='COVID-19: Change Deaths vs Cofirmed of Each Countries Over Time',\n",
    "                    size = np.power(df_data[\"Confirmed\"]+1,0.3)-0.5,\n",
    "                    size_max = 30,\n",
    "                    log_x=True,\n",
    "                    log_y=True,\n",
    "                    height =700,\n",
    "                    )\n",
    "fig.update_coloraxes(colorscale=\"hot\")\n",
    "fig.update(layout_coloraxis_showscale=False)\n",
    "fig.update_xaxes(title_text=\"Confirmed Cases (Log Scale)\")\n",
    "fig.update_yaxes(title_text=\"Deaths Rate (Log Scale)\")\n",
    "fig.show()"
   ]
  },
  {
   "cell_type": "markdown",
   "metadata": {},
   "source": [
    "# China Vs Outside China First 60 days\n",
    "<hr> "
   ]
  },
  {
   "cell_type": "code",
   "execution_count": null,
   "metadata": {
    "_kg_hide-input": true
   },
   "outputs": [],
   "source": [
    "# Getting data for China and Oouside China\n",
    "# df - Cumulative data for china, outside china and world total  (confirmed cases)\n",
    "# df_newcases- new cases reported per day  (confirmed cases)\n",
    "df_confirmed_report = df_confirmed.iloc[:,:65].copy()\n",
    "df_confirmed_report.loc[df_confirmed_report['country'] != \"China\",\"country\"] = \"Outside China\"\n",
    "df_confirmed_report = df_confirmed_report.groupby(\"country\").sum().drop([\"Lat\",\"Long\"],axis =1)\n",
    "df_confirmed_report.loc[\"Total\"] = df_confirmed_report.sum()\n",
    "df_confirmed_newcases = df_confirmed_report.groupby(level =0).diff(axis =1)\n",
    "df_confirmed_newcases = df_confirmed_newcases.replace(np.nan, 0, regex=True) \n",
    "f = plt.figure(figsize=(15,8))\n",
    "ax1 = f.add_subplot(111)\n",
    "\n",
    "ax1.bar(df_confirmed_report[df_confirmed_report.index == \"China\"].columns,df_confirmed_newcases[df_confirmed_newcases.index == \"China\"].values[0], label = \"China (New)\",color='dodgerblue')\n",
    "ax1.bar(df_confirmed_report[df_confirmed_report.index == \"Outside China\"].columns,df_confirmed_newcases[df_confirmed_newcases.index == \"Outside China\"].values[0],bottom=df_confirmed_newcases[df_confirmed_newcases.index == \"China\"].values[0],label = \"Outside China (New)\",color='orangered')\n",
    "\n",
    "# Labels\n",
    "ax1.set_xlabel(\"Dates\",fontsize=17)\n",
    "ax1.set_ylabel(\"New Cases Reported\",fontsize =17)\n",
    "\n",
    "ax1.tick_params(size=10,labelsize=15)\n",
    "length = len(df_confirmed_report.columns)\n",
    "ax1.set_xticks(np.arange(0.5, length, int(length/5)))\n",
    "ax1.set_xticklabels([datetime.strptime(date,'%m/%d/%y').strftime(\"%d %b\") for date in df_confirmed_report.columns][::int(length/5)],fontsize=15)\n",
    "l = np.arange(0, df_confirmed_report.max(axis = 1)[2]/10+10000, 5000)\n",
    "ax1.set_yticks(l[::int(len(l)/5)])\n",
    "# ax1.spines['bottom'].set_position('zero')\n",
    "\n",
    "ax2 = ax1.twinx()\n",
    "marker_style = dict(linewidth=6, linestyle='-', marker='o',markersize=6, markerfacecolor='#ffffff')\n",
    "\n",
    "ax2.plot(df_confirmed_report[df_confirmed_report.index == \"Total\"].columns ,df_confirmed_report[df_confirmed_report.index == \"Total\"].values[0],**marker_style,label = \"World Total (Cumulative)\",color=\"darkorange\",clip_on=False)\n",
    "ax2.plot(df_confirmed_report[df_confirmed_report.index == \"China\"].columns ,df_confirmed_report[df_confirmed_report.index == \"China\"].values[0],**marker_style,label = \"China (Cumulative)\",color=\"limegreen\",clip_on=False)\n",
    "ax2.plot(df_confirmed_report[df_confirmed_report.index == \"Outside China\"].columns ,df_confirmed_report[df_confirmed_report.index == \"Outside China\"].values[0],**marker_style,label =\"Outside China (Cumulative)\",color=\"darkviolet\",clip_on=False)\n",
    "ax2.bar([0],[0])\n",
    "\n",
    "# Label\n",
    "ax2.tick_params(labelsize=15)\n",
    "ax2.set_ylabel(\"Cumulative\",fontsize =17)\n",
    "ax2.set_xticks(np.arange(0.5, length, int(length/5)))\n",
    "ax2.set_xticklabels([datetime.strptime(date,'%m/%d/%y').strftime(\"%d %b\") for date in df_confirmed_report.columns][::int(length/5)],fontsize=15)\n",
    "l = np.arange(0, df_confirmed_report.max(axis = 1)[2]+100000, 100000)\n",
    "ax2.set_yticks(l[::int(len(l)/5)])\n",
    "\n",
    "f.tight_layout()\n",
    "f.legend(loc = \"upper left\", bbox_to_anchor=(0.1,0.95))\n",
    "plt.title(\"COVID-19 Confirmed Cases: China Vs Rest of the World\",fontsize = 22)\n",
    "plt.savefig(out+'China vs Rest of the world.png')\n",
    "plt.show()"
   ]
  },
  {
   "cell_type": "code",
   "execution_count": null,
   "metadata": {
    "_kg_hide-input": true
   },
   "outputs": [],
   "source": [
    "# Getting data for China and Oouside China\n",
    "# df - Cumulative data for china, outside china and world total (deaths)\n",
    "# df_newcases- new cases reported per day (deaths)\n",
    "df_deaths_report = df_deaths.iloc[:,:65].copy()\n",
    "df_deaths_report.loc[df_deaths_report['country'] != \"China\",\"country\"] = \"Outside China\"\n",
    "df_deaths_report = df_deaths_report.groupby(\"country\").sum().drop([\"Lat\",\"Long\"],axis =1)\n",
    "df_deaths_report.loc[\"Total\"] = df_deaths_report.sum()\n",
    "df_deaths_newcases = df_deaths_report.groupby(level =0).diff(axis =1)\n",
    "df_deaths_newcases = df_deaths_newcases.replace(np.nan, 0, regex=True)\n",
    "\n",
    "f = plt.figure(figsize=(15,8))\n",
    "ax1 = f.add_subplot(111)\n",
    "\n",
    "ax1.bar(df_deaths_report[df_deaths_report.index == \"China\"].columns,df_deaths_newcases[df_deaths_newcases.index == \"China\"].values[0], label = \"China (New)\",color='dodgerblue')\n",
    "ax1.bar(df_deaths_report[df_deaths_report.index == \"Outside China\"].columns,df_deaths_newcases[df_deaths_newcases.index == \"Outside China\"].values[0],bottom=df_deaths_newcases[df_deaths_newcases.index == \"China\"].values[0],label = \"Outside China (New)\",color='orangered')\n",
    "\n",
    "# Labels\n",
    "ax1.set_xlabel(\"Dates\",fontsize=17)\n",
    "ax1.set_ylabel(\"New Cases Reported\",fontsize =17)\n",
    "\n",
    "ax1.tick_params(size=10,labelsize=15)\n",
    "length = len(df_deaths_report.columns)\n",
    "ax1.set_xticks(np.arange(0.5, length, int(length/5)))\n",
    "ax1.set_xticklabels([datetime.strptime(date,'%m/%d/%y').strftime(\"%d %b\") for date in df_confirmed_report.columns][::int(length/5)],fontsize=15)\n",
    "l = np.arange(0, df_deaths_report.max(axis = 1)[2]/10+200, 100)\n",
    "ax1.set_yticks(l[::int(len(l)/5)])\n",
    "# ax1.spines['bottom'].set_position('zero')\n",
    "\n",
    "ax2 = ax1.twinx()\n",
    "marker_style = dict(linewidth=6, linestyle='-', marker='o',markersize=6, markerfacecolor='#ffffff')\n",
    "\n",
    "ax2.plot(df_deaths_report[df_deaths_report.index == \"Total\"].columns ,df_deaths_report[df_deaths_report.index == \"Total\"].values[0],**marker_style,label = \"World Total (Cumulative)\",color=\"darkorange\",clip_on=False)\n",
    "ax2.plot(df_deaths_report[df_deaths_report.index == \"China\"].columns ,df_deaths_report[df_deaths_report.index == \"China\"].values[0],**marker_style,label = \"China (Cumulative)\",color=\"limegreen\",clip_on=False)\n",
    "ax2.plot(df_deaths_report[df_deaths_report.index == \"Outside China\"].columns ,df_deaths_report[df_deaths_report.index == \"Outside China\"].values[0],**marker_style,label =\"Outsdte China (Cumulative)\",color=\"darkviolet\",clip_on=False)\n",
    "ax2.bar([0],[0])\n",
    "\n",
    "# Label\n",
    "ax2.tick_params(labelsize=15)\n",
    "ax2.set_ylabel(\"Cumulative\",fontsize =17)\n",
    "ax2.set_xticks(np.arange(0.5, length, int(length/5)))\n",
    "ax2.set_xticklabels([datetime.strptime(date,'%m/%d/%y').strftime(\"%d %b\") for date in df_confirmed_report.columns][::int(length/5)],fontsize=15)\n",
    "l = np.arange(0, df_deaths_report.max(axis = 1)[2]+4000, 2000)\n",
    "ax2.set_yticks(l[::int(len(l)/5)])\n",
    "\n",
    "f.tight_layout()\n",
    "f.legend(loc = \"upper left\", bbox_to_anchor=(0.1,0.95))\n",
    "plt.title(\"COVID-19 Deaths Reported: China Vs Rest of the World\",fontsize = 22)\n",
    "plt.savefig(out+'China vs Rest of the world1.png')\n",
    "plt.show()"
   ]
  },
  {
   "cell_type": "markdown",
   "metadata": {},
   "source": [
    "\n",
    "**NOTE :**\n",
    "* ** This section Depricated. [Check out version 17](https://www.kaggle.com/tarunkr/covid-19-case-study-analysis-viz-comparisons?scriptVersionId=30677812)**"
   ]
  },
  {
   "cell_type": "code",
   "execution_count": null,
   "metadata": {
    "_kg_hide-input": true
   },
   "outputs": [],
   "source": [
    "# # Getting data for China and Oouside China\n",
    "# # df - Cumulative data for china, outside china and world total (deaths)\n",
    "# # df_newcases- new cases reported per day (deaths)\n",
    "# df_recovered_report = df_recovered.copy()\n",
    "# df_recovered_report.loc[df_recovered_report['country'] != \"China\",\"country\"] = \"Outside China\"\n",
    "# df_recovered_report = df_recovered_report.groupby(\"country\").sum().drop([\"Lat\",\"Long\"],axis =1)\n",
    "# df_recovered_report.loc[\"Total\"] = df_recovered_report.sum()\n",
    "# df_recovered_newcases = df_recovered_report.groupby(level =0).diff(axis =1)\n",
    "\n",
    "# f = plt.figure(figsize=(15,8))\n",
    "# ax1 = f.add_subplot(111)\n",
    "\n",
    "# ax1.bar(df_recovered_report[df_recovered_report.index == \"China\"].columns,df_recovered_newcases[df_recovered_newcases.index == \"China\"].values[0], label = \"China (New)\",color='dodgerblue')\n",
    "# ax1.bar(df_recovered_report[df_recovered_report.index == \"Outside China\"].columns,df_recovered_newcases[df_recovered_newcases.index == \"Outside China\"].values[0],bottom=df_recovered_newcases[df_recovered_newcases.index == \"China\"].values[0],label = \"Outside China (New)\",color='orangered')\n",
    "\n",
    "# # Labels\n",
    "# ax1.set_xlabel(\"Dates\",fontsize=17)\n",
    "# ax1.set_ylabel(\"New Cases Reported\",fontsize =17)\n",
    "\n",
    "# ax1.tick_params(size=10,labelsize=15)\n",
    "# ax1.set_xticks(np.arange(0.5, len(df_recovered_report.columns), 6))\n",
    "# ax1.set_xticklabels([datetime.strptime(date,'%m/%d/%y').strftime(\"%d %b\") for date in df_recovered_report.columns][::6],fontsize=15)\n",
    "# ax1.set_yticks(np.arange(0, df_recovered_newcases.max(axis = 1)[2]+1000, 1000))\n",
    "# # ax1.spines['bottom'].set_position('zero')\n",
    "\n",
    "# ax2 = ax1.twinx()\n",
    "# marker_style = dict(linewidth=6, linestyle='-', marker='o',markersize=10, markerfacecolor='#ffffff')\n",
    "\n",
    "# ax2.plot(df_recovered_report[df_recovered_report.index == \"Total\"].columns ,df_recovered_report[df_recovered_report.index == \"Total\"].values[0],**marker_style,label = \"World Total (Cumulative)\",color=\"darkorange\",clip_on=False)\n",
    "# ax2.plot(df_recovered_report[df_recovered_report.index == \"China\"].columns ,df_recovered_report[df_recovered_report.index == \"China\"].values[0],**marker_style,label = \"China (Cumulative)\",color=\"limegreen\",clip_on=False)\n",
    "# ax2.plot(df_recovered_report[df_recovered_report.index == \"Outside China\"].columns ,df_recovered_report[df_recovered_report.index == \"Outside China\"].values[0],**marker_style,label =\"Outside China (Cumulative)\",color=\"darkviolet\",clip_on=False)\n",
    "# ax2.bar([0],[0])\n",
    "\n",
    "# # Label\n",
    "# ax2.tick_params(labelsize=15)\n",
    "# ax2.set_ylabel(\"Cumulative\",fontsize =17)\n",
    "# ax2.set_xticks(np.arange(0.5, len(df_recovered_report.columns), 6))\n",
    "# ax2.set_xticklabels([datetime.strptime(date,'%m/%d/%y').strftime(\"%d %b\") for date in df_recovered_report.columns][::6])\n",
    "# ax2.set_yticks(np.arange(0, df_recovered_report.max(axis = 1)[2]+10000, 10000))\n",
    "\n",
    "# f.tight_layout()\n",
    "# f.legend(loc = \"upper left\", bbox_to_anchor=(0.1,0.95))\n",
    "# plt.title(\"COVID-19 Recovered Cases: China Vs Rest of the World\",fontsize = 22)\n",
    "# plt.savefig('China vs Rest of the world2.png')\n",
    "# plt.show()"
   ]
  },
  {
   "cell_type": "code",
   "execution_count": null,
   "metadata": {
    "_kg_hide-input": true
   },
   "outputs": [],
   "source": [
    "# pd.DataFrame([df_confirmed_report.iloc[:,-1],df_deaths_report.iloc[:,-1],df_recovered_report.iloc[:,-1]],[\"Confirmed\",\"Deaths\",\"Recovered\"]).transpose()"
   ]
  },
  {
   "cell_type": "code",
   "execution_count": null,
   "metadata": {
    "_kg_hide-input": true
   },
   "outputs": [],
   "source": [
    "f = plt.figure(figsize=(15,8))\n",
    "ax = f.add_subplot(111)\n",
    "\n",
    "ax.bar(0.05+np.arange(len(df_confirmed_newcases[df_confirmed_newcases.index == \"China\"].columns)),df_confirmed_newcases[df_confirmed_newcases.index == \"China\"].values[0], label = \"Confirmed Cases\",color='dodgerblue',width = 0.45)\n",
    "ax.bar(0.5+np.arange(len(df_deaths_newcases[df_deaths_newcases.index == \"China\"].columns)),df_deaths_newcases[df_deaths_newcases.index == \"China\"].values[0], label = \"Deaths\",color='red',width = 0.45)\n",
    "# ax.bar(0.67+np.arange(len(df_recovered_newcases[df_recovered_newcases.index == \"China\"].columns)),df_recovered_newcases[df_recovered_newcases.index == \"China\"].values[0], label = \"Recoveries\",color='orange',width = 0.33)\n",
    "\n",
    "# ax.bar(df_recovered_report[df_recovered_report.index == \"Outside China\"].columns,df_newcases[df_newcases.index == \"Outside China\"].values[0],bottom=df_newcases[df_newcases.index == \"China\"].values[0],label = \"Outside China (New)\",color='orangered')\n",
    "\n",
    "# Labels\n",
    "ax.set_xlabel(\"Dates\",fontsize=17)\n",
    "ax.set_ylabel(\"Cases Reported\",fontsize =17)\n",
    "\n",
    "ax.tick_params(labelsize=15)\n",
    "length = len(df_confirmed_newcases.columns)\n",
    "ax.set_xticks(np.arange(0.5, length, int(length/5)))\n",
    "ax.set_xticklabels([datetime.strptime(date,'%m/%d/%y').strftime(\"%d %b\") for date in df_confirmed_report.columns][::int(length/5)],fontsize=15)\n",
    "ax.set_yticks(np.arange(0, df_confirmed_newcases.loc[\"China\"].max()+4000, 4000))\n",
    "ax.legend(loc = \"upper left\", bbox_to_anchor=(0.1,0.95))\n",
    "plt.title(\"COVID-19 Cases: China\",fontsize = 22)\n",
    "plt.grid(alpha = 0.3)\n",
    "plt.savefig(out+'China vs Rest of the world3.png')\n",
    "plt.show()"
   ]
  },
  {
   "cell_type": "code",
   "execution_count": null,
   "metadata": {
    "_kg_hide-input": true
   },
   "outputs": [],
   "source": [
    "f = plt.figure(figsize=(15,8))\n",
    "ax = f.add_subplot(111)\n",
    "\n",
    "ax.bar(0.05+np.arange(len(df_confirmed_newcases[df_confirmed_newcases.index == \"Outside China\"].columns)),df_confirmed_newcases[df_confirmed_newcases.index == \"Outside China\"].values[0], label = \"Confirmed Cases\",color='dodgerblue',width = 0.45)\n",
    "ax.bar(0.5+np.arange(len(df_deaths_newcases[df_deaths_newcases.index == \"Outside China\"].columns)),df_deaths_newcases[df_deaths_newcases.index == \"Outside China\"].values[0], label = \"Deaths\",color='red',width = 0.45)\n",
    "# ax.bar(0.67+np.arange(len(df_recovered_newcases[df_recovered_newcases.index == \"Outside China\"].columns)),df_recovered_newcases[df_recovered_newcases.index == \"Outside China\"].values[0], label = \"Recoveries\",color='orange',width = 0.33)\n",
    "\n",
    "# ax.bar(df_recovered_report[df_recovered_report.index == \"Outside China\"].columns,df_newcases[df_newcases.index == \"Outside China\"].values[0],bottom=df_newcases[df_newcases.index == \"China\"].values[0],label = \"Outside China (New)\",color='orangered')\n",
    "\n",
    "# Labels\n",
    "ax.set_xlabel(\"Dates\",fontsize=17)\n",
    "ax.set_ylabel(\"Cases Reported\",fontsize =17)\n",
    "\n",
    "ax.tick_params(labelsize=15)\n",
    "length = len(df_confirmed_newcases.columns)\n",
    "ax.set_xticks(np.arange(0.5, length, int(length/5)))\n",
    "ax.set_xticklabels([datetime.strptime(date,'%m/%d/%y').strftime(\"%d %b\") for date in df_confirmed_report.columns][::int(length/5)],fontsize=15)\n",
    "ax.set_yticks(np.arange(0, df_confirmed_newcases.loc[\"Outside China\"].max()+10000, 20000))\n",
    "ax.legend(loc = \"upper left\", bbox_to_anchor=(0.1,0.95))\n",
    "plt.title(\"COVID-19 Cases: Rest of the World\",fontsize = 22)\n",
    "plt.grid(alpha = 0.3)\n",
    "plt.savefig(out+'China vs Rest of the world4.png')\n",
    "plt.show()"
   ]
  },
  {
   "cell_type": "code",
   "execution_count": null,
   "metadata": {
    "_kg_hide-input": true
   },
   "outputs": [],
   "source": [
    "f = plt.figure(figsize=(15,8))\n",
    "ax = f.add_subplot(111)\n",
    "\n",
    "ax.bar(0.05+np.arange(len(df_confirmed_newcases[df_confirmed_newcases.index == \"Total\"].columns)),df_confirmed_newcases[df_confirmed_newcases.index == \"Total\"].values[0], label = \"Confirmed Cases\",color='dodgerblue',width = 0.45)\n",
    "ax.bar(0.5+np.arange(len(df_deaths_newcases[df_deaths_newcases.index == \"Total\"].columns)),df_deaths_newcases[df_deaths_newcases.index == \"Total\"].values[0], label = \"Deaths\",color='red',width = 0.45)\n",
    "# ax.bar(0.67+np.arange(len(df_recovered_newcases[df_recovered_newcases.index == \"Total\"].columns)),df_recovered_newcases[df_recovered_newcases.index == \"Total\"].values[0], label = \"Recoveries\",color='orange',width = 0.33)\n",
    "\n",
    "# ax.bar(df_recovered_report[df_recovered_report.index == \"Outside China\"].columns,df_newcases[df_newcases.index == \"Outside China\"].values[0],bottom=df_newcases[df_newcases.index == \"China\"].values[0],label = \"Outside China (New)\",color='orangered')\n",
    "\n",
    "# Labels\n",
    "ax.set_xlabel(\"Dates\",fontsize=17)\n",
    "ax.set_ylabel(\"Cases Reported\",fontsize =17)\n",
    "\n",
    "ax.tick_params(labelsize=15)\n",
    "length = len(df_confirmed_newcases.columns)\n",
    "ax.set_xticks(np.arange(0.5, length, int(length/5)))\n",
    "ax.set_xticklabels([datetime.strptime(date,'%m/%d/%y').strftime(\"%d %b\") for date in df_confirmed_report.columns][::int(length/5)],fontsize=15)\n",
    "ax.set_yticks(np.arange(0, df_confirmed_newcases.loc[\"Total\"].max()+10000, 20000))\n",
    "ax.legend(loc = \"upper left\", bbox_to_anchor=(0.1,0.95))\n",
    "plt.title(\"COVID-19 Cases: All over the Globe\",fontsize = 22)\n",
    "plt.grid(alpha = 0.3)\n",
    "plt.savefig(out+'China vs Rest of the world5.png')\n",
    "plt.show()"
   ]
  },
  {
   "cell_type": "markdown",
   "metadata": {},
   "source": [
    "# COVID-19 : INDIA\n",
    "\n",
    "<hr>\n",
    "**Few basic visualization related to India. I will be updating with more visualization in further commits. i am also working on Paitent Data Insights. Adding Soon**\n",
    "### Dataset:\n",
    "This dataset is provided by https://api.rootnet.in/"
   ]
  },
  {
   "cell_type": "markdown",
   "metadata": {},
   "source": [
    "## Analysis of Tests done in India and Comparission with South Korea\n",
    "<hr>\n",
    "**Note:** I am working on more on testing data and comparisions insights and will adding soon."
   ]
  },
  {
   "cell_type": "code",
   "execution_count": null,
   "metadata": {
    "_kg_hide-input": true
   },
   "outputs": [],
   "source": [
    "df_india_test = pd.io.json.json_normalize(requests.get('https://api.rootnet.in/covid19-in/stats/testing/history').json()['data']).rename(columns = {\"totalIndividualsTested\":\"c_individualtest\",\"totalPositiveCases\":\"c_positive\",\"totalSamplesTested\":\"c_tests\"})"
   ]
  },
  {
   "cell_type": "code",
   "execution_count": null,
   "metadata": {
    "_kg_hide-input": true
   },
   "outputs": [],
   "source": [
    "df_india_test[\"p2t_ratio\"]= np.round(100*df_india_test[\"c_positive\"]/df_india_test[\"c_tests\"],2)\n",
    "df_india_test[\"positive\"] = df_india_test[\"c_positive\"].diff()\n",
    "df_india_test[\"tests\"] = df_india_test[\"c_tests\"].diff()\n",
    "df_india_test[\"p2t_ratio\"]= np.round(100*df_india_test[\"positive\"]/df_india_test[\"tests\"],2)\n",
    "df_india_test = df_india_test[1:]"
   ]
  },
  {
   "cell_type": "code",
   "execution_count": null,
   "metadata": {
    "_kg_hide-input": true
   },
   "outputs": [],
   "source": [
    "f = plt.figure(figsize=(10,5))\n",
    "f.add_subplot(111)\n",
    "\n",
    "plt.axes(axisbelow=True)\n",
    "plt.bar(df_india_test[\"day\"],df_india_test[\"tests\"].values[:],color=\"darkcyan\",label=\"Test (Negetive)\"+str())\n",
    "plt.bar(df_india_test[\"day\"],df_india_test[\"positive\"].values[:],bottom=df_india_test[\"tests\"].values[:]-df_india_test[\"positive\"].values[:],color=\"Red\",label=\"Test (Positive)\")\n",
    "plt.tick_params(size=5,labelsize = 13)\n",
    "plt.tick_params(axis=\"x\",size=5,labelsize = 13,labelrotation=60 )\n",
    "plt.xlabel(\"Date\",fontsize=18)\n",
    "plt.ylabel(\"Test Results\",fontsize=18)\n",
    "\n",
    "# X-axis\n",
    "date = df_india_test[\"day\"].values\n",
    "plt.xticks(list(np.arange(0,len(date),int(len(date)/5))),date[:-1:int(len(date)/5)])\n",
    "\n",
    "plt.title(\"Tests in India\",fontsize=20)\n",
    "plt.grid(alpha=0.3)\n",
    "plt.legend()\n",
    "plt.savefig(out+'Test_India.png')"
   ]
  },
  {
   "cell_type": "code",
   "execution_count": null,
   "metadata": {},
   "outputs": [],
   "source": [
    "df_india_test[\"day\"].values.shape"
   ]
  },
  {
   "cell_type": "markdown",
   "metadata": {},
   "source": [
    "### Total tests done till date (1 April 2020) in India "
   ]
  },
  {
   "cell_type": "code",
   "execution_count": null,
   "metadata": {
    "_kg_hide-input": true
   },
   "outputs": [],
   "source": [
    "df_india_test[\"c_tests\"][-1:].values[0]"
   ]
  },
  {
   "cell_type": "markdown",
   "metadata": {},
   "source": [
    "### Test Conducted per Million People"
   ]
  },
  {
   "cell_type": "code",
   "execution_count": null,
   "metadata": {
    "_kg_hide-input": true
   },
   "outputs": [],
   "source": [
    "np.round(1000000*df_india_test[\"c_tests\"][-1:].values[0]/1300000000,2)"
   ]
  },
  {
   "cell_type": "markdown",
   "metadata": {},
   "source": [
    "This is far less than the tests happening in South Korea, Singapore and Other countries. Here is a comparison table for India and South Korea <br>**(Last Update: 31 Mar 2020)**\n",
    "<table>\n",
    "    <tr>\n",
    "        <th style = \"text-align:Left\">Parameters</th>\n",
    "        <th>India</th>\n",
    "        <th>South Korea</th>\n",
    "    </tr>\n",
    "    <tr>\n",
    "        <th style = \"text-align:Left\">Population</th>\n",
    "        <td>130 Cr</td>\n",
    "        <td>5.15 Cr</td>\n",
    "    </tr>\n",
    "    <tr>\n",
    "        <th style = \"text-align:Left\">First Case Reported</th>\n",
    "        <td>28 Jan 2020</td>\n",
    "        <td>23 Jan 2020</td>\n",
    "    </tr>\n",
    "    <tr>\n",
    "        <th style = \"text-align:Left\">Total Tests</th>\n",
    "        <td>37000</td>\n",
    "        <td>395194</td>\n",
    "    </tr>\n",
    "    <tr>\n",
    "        <th style = \"text-align:Left\">Tests Per Million Peoples</th>\n",
    "        <td>28.46</td>\n",
    "        <td>7674</td>\n",
    "    </tr>\n",
    "    <tr>\n",
    "        <th style = \"text-align:Left\">Positives</th>\n",
    "        <td>1250</td>\n",
    "        <td>9661</td>\n",
    "    </tr>\n",
    "    <tr>\n",
    "        <th style = \"text-align:Left\">No. Positives in 100 Tests</th>\n",
    "        <td>3.38</td>\n",
    "        <td>2.44</td>\n",
    "    </tr>\n",
    "    <tr>\n",
    "        <th style = \"text-align:Left\">Current Mortality Rate</th>\n",
    "        <td>3.76</td>\n",
    "        <td>1.63</td>\n",
    "    </tr>\n",
    "</table><br>\n",
    "From this table, this can be concluded that India is far behind in terms of testing, and testing is very important to keep track of COVID19 spread and also to quarantine those people or isolate them to control the spread of COVID19 as done by South Korea."
   ]
  },
  {
   "cell_type": "markdown",
   "metadata": {},
   "source": [
    "## COVID19 Cases in India\n",
    "<hr>"
   ]
  },
  {
   "cell_type": "code",
   "execution_count": null,
   "metadata": {
    "_kg_hide-input": true,
    "_kg_hide-output": true
   },
   "outputs": [],
   "source": [
    "india_data_json = requests.get('https://api.rootnet.in/covid19-in/unofficial/covid19india.org/statewise').json()\n",
    "df_india = pd.io.json.json_normalize(india_data_json['data']['statewise'])\n",
    "df_india = df_india.set_index(\"state\")"
   ]
  },
  {
   "cell_type": "code",
   "execution_count": null,
   "metadata": {},
   "outputs": [],
   "source": [
    "total = df_india.sum()\n",
    "total.name = \"Total\"\n",
    "df_t = pd.DataFrame(total,dtype=float).transpose()\n",
    "df_t[\"Mortality Rate (per 100)\"] = np.round(100*df_t[\"deaths\"]/df_t[\"confirmed\"],2)\n",
    "df_t.style.background_gradient(cmap='Purples',axis=1)"
   ]
  },
  {
   "cell_type": "code",
   "execution_count": null,
   "metadata": {},
   "outputs": [],
   "source": [
    "df_india[\"Mortality Rate (per 100)\"]= np.round(np.nan_to_num(100*df_india[\"deaths\"]/df_india[\"confirmed\"]),2)\n",
    "df_india.style.background_gradient(cmap='Blues',subset=[\"confirmed\"])\\\n",
    "                        .background_gradient(cmap='Reds',subset=[\"deaths\"])\\\n",
    "                        .background_gradient(cmap='Greens',subset=[\"recovered\"])\\\n",
    "                        .background_gradient(cmap='Purples',subset=[\"active\"])\\\n",
    "                        .background_gradient(cmap='YlOrBr',subset=[\"Mortality Rate (per 100)\"])\\\n",
    "                        .format(\"{:.2f}\",subset=[\"Mortality Rate (per 100)\"])"
   ]
  },
  {
   "cell_type": "markdown",
   "metadata": {},
   "source": [
    "### States with Reported Deaths"
   ]
  },
  {
   "cell_type": "code",
   "execution_count": null,
   "metadata": {},
   "outputs": [],
   "source": [
    "df_india[df_india['deaths'] > 0].style.background_gradient(cmap='Blues',subset=[\"confirmed\"])\\\n",
    "                        .background_gradient(cmap='Reds',subset=[\"deaths\"])\\\n",
    "                        .background_gradient(cmap='Greens',subset=[\"recovered\"])\\\n",
    "                        .background_gradient(cmap='Purples',subset=[\"active\"])\\\n",
    "                        .background_gradient(cmap='YlOrBr',subset=[\"Mortality Rate (per 100)\"])\\\n",
    "                        .format(\"{:.2f}\",subset=[\"Mortality Rate (per 100)\"])"
   ]
  },
  {
   "cell_type": "markdown",
   "metadata": {},
   "source": [
    "### 10 Most effected States"
   ]
  },
  {
   "cell_type": "code",
   "execution_count": null,
   "metadata": {},
   "outputs": [],
   "source": [
    "f = plt.figure(figsize=(10,5))\n",
    "f.add_subplot(111)\n",
    "\n",
    "plt.axes(axisbelow=True)\n",
    "plt.barh(df_india.sort_values('confirmed')[\"confirmed\"].index[-10:],df_india.sort_values('confirmed')[\"confirmed\"].values[-10:],color=\"darkcyan\")\n",
    "plt.tick_params(size=5,labelsize = 13)\n",
    "plt.xlabel(\"Confirmed Cases\",fontsize=18)\n",
    "plt.title(\"Top 10 States: India (Confirmed Cases)\",fontsize=20)\n",
    "plt.grid(alpha=0.3)\n",
    "plt.savefig(out+'Top 10 States_India (Confirmed Cases).png')"
   ]
  },
  {
   "cell_type": "code",
   "execution_count": null,
   "metadata": {
    "_kg_hide-input": true
   },
   "outputs": [],
   "source": [
    "f = plt.figure(figsize=(10,5))\n",
    "f.add_subplot(111)\n",
    "\n",
    "plt.axes(axisbelow=True)\n",
    "plt.barh(df_india.sort_values('deaths')[\"deaths\"].index[-10:],df_india.sort_values('deaths')[\"deaths\"].values[-10:],color=\"crimson\")\n",
    "plt.tick_params(size=5,labelsize = 13)\n",
    "plt.xlabel(\"Deaths\",fontsize=18)\n",
    "plt.title(\"Top 10 States: India (Deaths Cases)\",fontsize=20)\n",
    "plt.grid(alpha=0.3)\n",
    "plt.savefig(out+'Top 10 States_India (Deaths Cases).png')"
   ]
  },
  {
   "cell_type": "markdown",
   "metadata": {},
   "source": [
    "### Correlation"
   ]
  },
  {
   "cell_type": "code",
   "execution_count": null,
   "metadata": {},
   "outputs": [],
   "source": [
    "df_india.corr().style.background_gradient(cmap='Reds').format(\"{:.2f}\")"
   ]
  },
  {
   "cell_type": "markdown",
   "metadata": {},
   "source": [
    "## Map Visualization (Statewise Inida)\n",
    "<hr>"
   ]
  },
  {
   "cell_type": "code",
   "execution_count": null,
   "metadata": {
    "_kg_hide-input": true
   },
   "outputs": [],
   "source": [
    "# Adding Location data (Latitude,Longitude)\n",
    "locations = {\n",
    "    \"Kerala\" : [10.8505,76.2711],\n",
    "    \"Maharashtra\" : [19.7515,75.7139],\n",
    "    \"Karnataka\": [15.3173,75.7139],\n",
    "    \"Telangana\": [18.1124,79.0193],\n",
    "    \"Uttar Pradesh\": [26.8467,80.9462],\n",
    "    \"Rajasthan\": [27.0238,74.2179],\n",
    "    \"Gujarat\":[22.2587,71.1924],\n",
    "    \"Delhi\" : [28.7041,77.1025],\n",
    "    \"Punjab\":[31.1471,75.3412],\n",
    "    \"Tamil Nadu\": [11.1271,78.6569],\n",
    "    \"Haryana\": [29.0588,76.0856],\n",
    "    \"Madhya Pradesh\":[22.9734,78.6569],\n",
    "    \"Jammu and Kashmir\":[33.7782,76.5762],\n",
    "    \"Ladakh\": [34.1526,77.5770],\n",
    "    \"Andhra Pradesh\":[15.9129,79.7400],\n",
    "    \"West Bengal\": [22.9868,87.8550],\n",
    "    \"Bihar\": [25.0961,85.3131],\n",
    "    \"Chhattisgarh\":[21.2787,81.8661],\n",
    "    \"Chandigarh\":[30.7333,76.7794],\n",
    "    \"Uttarakhand\":[30.0668,79.0193],\n",
    "    \"Himachal Pradesh\":[31.1048,77.1734],\n",
    "    \"Goa\": [15.2993,74.1240],\n",
    "    \"Odisha\":[20.9517,85.0985],\n",
    "    \"Andaman and Nicobar Islands\": [11.7401,92.6586],\n",
    "    \"Puducherry\":[11.9416,79.8083],\n",
    "    \"Manipur\":[24.6637,93.9063],\n",
    "    \"Mizoram\":[23.1645,92.9376],\n",
    "    \"Assam\":[26.2006,92.9376],\n",
    "    \"Meghalaya\":[25.4670,91.3662],\n",
    "    \"Tripura\":[23.9408,91.9882],\n",
    "    \"Arunachal Pradesh\":[28.2180,94.7278],\n",
    "    \"Jharkhand\" : [23.6102,85.2799],\n",
    "    \"Nagaland\": [26.1584,94.5624],\n",
    "    \"Sikkim\": [27.5330,88.5122],\n",
    "    \"Dadra and Nagar Haveli\":[20.1809,73.0169],\n",
    "    \"Lakshadweep\":[10.5667,72.6417],\n",
    "    \"Daman and Diu\":[20.4283,72.8397]    \n",
    "}\n",
    "df_india[\"Lat\"] = \"\"\n",
    "df_india[\"Long\"] = \"\"\n",
    "\n",
    "for index in df_india.index :\n",
    "    if index in locations:\n",
    "        df_india.loc[df_india.index == index,\"Lat\"] = locations[index][0]\n",
    "        df_india.loc[df_india.index == index,\"Long\"] = locations[index][1]\n",
    "    else:\n",
    "        df_india.drop([index],inplace=True)"
   ]
  },
  {
   "cell_type": "code",
   "execution_count": null,
   "metadata": {
    "_kg_hide-input": true,
    "scrolled": false
   },
   "outputs": [],
   "source": [
    "india = folium.Map(location=[23,80], zoom_start=4,max_zoom=6,min_zoom=4,height=500,width=\"80%\")\n",
    "for i in range(0,len(df_india[df_india['confirmed']>0].index)):\n",
    "    folium.Circle(\n",
    "        location=[df_india.iloc[i]['Lat'], df_india.iloc[i]['Long']],\n",
    "        tooltip = \"<h5 style='text-align:center;font-weight: bold'>\"+df_india.iloc[i].name+\"</h5>\"+\n",
    "                    \"<hr style='margin:10px;'>\"+\n",
    "                    \"<ul style='color: #444;list-style-type:circle;align-item:left;padding-left:20px;padding-right:20px'>\"+\n",
    "        \"<li>Confirmed: \"+str(df_india.iloc[i]['confirmed'])+\"</li>\"+\n",
    "        \"<li>Active:   \"+str(df_india.iloc[i]['active'])+\"</li>\"+\n",
    "        \"<li>Recovered:   \"+str(df_india.iloc[i]['recovered'])+\"</li>\"+\n",
    "        \"<li>Deaths:   \"+str(df_india.iloc[i]['deaths'])+\"</li>\"+\n",
    "        \n",
    "        \"<li>Mortality Rate:   \"+str(np.round(df_india.iloc[i]['Mortality Rate (per 100)'],2))+\"</li>\"+\n",
    "        \"</ul>\"\n",
    "        ,\n",
    "        radius=(int(np.log2(df_india.iloc[i]['confirmed']+1)))*15000,\n",
    "        color='#ff6600',\n",
    "        fill_color='#ff8533',\n",
    "        fill=True).add_to(india)\n",
    "\n",
    "india"
   ]
  },
  {
   "cell_type": "markdown",
   "metadata": {},
   "source": [
    "# COVID-19 : USA\n",
    "<hr>"
   ]
  },
  {
   "cell_type": "code",
   "execution_count": null,
   "metadata": {
    "_kg_hide-input": true
   },
   "outputs": [],
   "source": [
    "date_usa = datetime.strptime(df_confirmed.columns[-1],'%m/%d/%y').strftime(\"%m-%d-%Y\")\n",
    "df_temp = pd.read_csv(\"https://raw.githubusercontent.com/CSSEGISandData/COVID-19/master/csse_covid_19_data/csse_covid_19_daily_reports/\"+date_usa+\".csv\")\n",
    "df_usa = df_temp.loc[df_temp[\"Country_Region\"]== \"US\"]\n",
    "df_usa = df_usa.rename(columns={\"Admin2\":\"County\"})"
   ]
  },
  {
   "cell_type": "code",
   "execution_count": null,
   "metadata": {},
   "outputs": [],
   "source": [
    "total = df_usa.sum()\n",
    "total.name = \"Total\"\n",
    "pd.DataFrame(total).transpose().loc[:,[\"Confirmed\",\"Deaths\"]].style.background_gradient(cmap='Purples',axis=1)"
   ]
  },
  {
   "cell_type": "code",
   "execution_count": null,
   "metadata": {
    "scrolled": false
   },
   "outputs": [],
   "source": [
    "df_usa.loc[:,[\"Confirmed\",\"Deaths\",\"Province_State\"]].groupby([\"Province_State\"]).sum().sort_values(\"Confirmed\",ascending=False).style.background_gradient(cmap='Blues',subset=[\"Confirmed\"]).background_gradient(cmap='Reds',subset=[\"Deaths\"])"
   ]
  },
  {
   "cell_type": "markdown",
   "metadata": {},
   "source": [
    "### Top 10 affected Cities or Counties:"
   ]
  },
  {
   "cell_type": "code",
   "execution_count": null,
   "metadata": {},
   "outputs": [],
   "source": [
    "df_usa.loc[:,[\"Province_State\",\"Confirmed\",\"Deaths\",\"County\"]].sort_values(\"Confirmed\",ascending=False).set_index(\"County\")[:10].style.background_gradient(cmap='Blues',subset=[\"Confirmed\"])\\\n",
    "                        .background_gradient(cmap='Reds',subset=[\"Deaths\"])"
   ]
  },
  {
   "cell_type": "markdown",
   "metadata": {},
   "source": [
    "### Most Affected States: USA"
   ]
  },
  {
   "cell_type": "code",
   "execution_count": null,
   "metadata": {},
   "outputs": [],
   "source": [
    "f = plt.figure(figsize=(10,5))\n",
    "f.add_subplot(111)\n",
    "\n",
    "plt.axes(axisbelow=True)\n",
    "plt.barh(df_usa.groupby([\"Province_State\"]).sum().sort_values('Confirmed')[\"Confirmed\"].index[-10:],df_usa.groupby([\"Province_State\"]).sum().sort_values('Confirmed')[\"Confirmed\"].values[-10:],color=\"darkcyan\")\n",
    "plt.tick_params(size=5,labelsize = 13)\n",
    "plt.xlabel(\"Confirmed Cases\",fontsize=18)\n",
    "plt.title(\"Top 10 States: USA (Confirmed Cases)\",fontsize=20)\n",
    "plt.grid(alpha=0.3)\n",
    "plt.savefig(out+'Top 10 States_USA (Confirmed Cases).png')"
   ]
  },
  {
   "cell_type": "code",
   "execution_count": null,
   "metadata": {
    "_kg_hide-input": true
   },
   "outputs": [],
   "source": [
    "f = plt.figure(figsize=(10,5))\n",
    "f.add_subplot(111)\n",
    "\n",
    "plt.axes(axisbelow=True)\n",
    "plt.barh(df_usa.groupby([\"Province_State\"]).sum().sort_values('Deaths')[\"Deaths\"].index[-10:],df_usa.groupby([\"Province_State\"]).sum().sort_values('Deaths')[\"Deaths\"].values[-10:],color=\"crimson\")\n",
    "plt.tick_params(size=5,labelsize = 13)\n",
    "plt.xlabel(\"Deaths\",fontsize=18)\n",
    "plt.title(\"Top 10 States: USA (Deaths Cases)\",fontsize=20)\n",
    "plt.grid(alpha=0.3)\n",
    "plt.savefig(out+'Top 10 States_USA (Deaths Cases).png')"
   ]
  },
  {
   "cell_type": "markdown",
   "metadata": {},
   "source": [
    "### Map Visualization (Demographic)"
   ]
  },
  {
   "cell_type": "code",
   "execution_count": null,
   "metadata": {
    "_kg_hide-input": true
   },
   "outputs": [],
   "source": [
    "# url = \"https://raw.githubusercontent.com/Subhash9325/GeoJson-Data-of-Indian-States/master/Indian_States\"\n",
    "# state_json = requests.get(url).json()\n",
    "df_usa = df_usa.replace(np.nan, 0, regex=True)\n",
    "usa = folium.Map(location=[37, -102], zoom_start=4,max_zoom=9,min_zoom=4)\n",
    "for i in np.int32(np.asarray(df_usa[df_usa['Confirmed'] > 0].index)):\n",
    "    folium.Circle(\n",
    "        location=[df_usa.loc[i]['Lat'], df_usa.loc[i]['Long_']],\n",
    "        tooltip = \"<h5 style='text-align:center;font-weight: bold'>\"+df_usa.loc[i]['Province_State']+\"</h5>\"+\n",
    "                    \"<div style='text-align:center;'>\"+str(np.nan_to_num(df_usa.loc[i]['County']))+\"</div>\"+\n",
    "                    \"<hr style='margin:10px;'>\"+\n",
    "                    \"<ul style='color: #444;list-style-type:circle;align-item:left;padding-left:20px;padding-right:20px'>\"+\n",
    "        \"<li>Confirmed: \"+str(df_usa.loc[i]['Confirmed'])+\"</li>\"+\n",
    "        \"<li>Active:   \"+str(df_usa.loc[i]['Active'])+\"</li>\"+\n",
    "        \"<li>Recovered:   \"+str(df_usa.loc[i]['Recovered'])+\"</li>\"+       \n",
    "        \"<li>Deaths:   \"+str(df_usa.loc[i]['Deaths'])+\"</li>\"+\n",
    "        \"<li>Mortality Rate:   \"+str(np.round(df_usa.loc[i]['Deaths']/(df_usa.loc[i]['Confirmed']+1)*100,2))+\"</li>\"+\n",
    "        \"</ul>\"\n",
    "        ,\n",
    "        radius=int((np.log2(df_usa.loc[i]['Confirmed']+1))*6000),\n",
    "        color='#ff6600',\n",
    "        fill_color='#ff8533',\n",
    "        fill=True).add_to(usa)\n",
    "\n",
    "usa"
   ]
  },
  {
   "cell_type": "code",
   "execution_count": null,
   "metadata": {
    "_kg_hide-input": true
   },
   "outputs": [],
   "source": [
    "state_geo = requests.get('https://raw.githubusercontent.com/python-visualization/folium/master/examples/data/us-states.json').json()\n",
    "county_geo = requests.get('https://raw.githubusercontent.com/python-visualization/folium/master/examples/data/us_counties_20m_topo.json').json()\n",
    "# county_geo"
   ]
  },
  {
   "cell_type": "code",
   "execution_count": null,
   "metadata": {
    "_kg_hide-input": true,
    "scrolled": false
   },
   "outputs": [],
   "source": [
    "data_temp = df_usa.groupby([\"Province_State\"]).sum().reset_index().drop([\"Lat\",\"Long_\"],axis=1)\n",
    "data_temp[\"Confirmed_log\"] = np.log10(data_temp[\"Confirmed\"]+1)\n",
    "bins = list(data_temp['Confirmed_log'].quantile([0, 0.25, 0.5, 0.75,0.95 ,1]))\n",
    "m = folium.Map(location=[37, -102], zoom_start=4,max_zoom=6,min_zoom=3)\n",
    " \n",
    "# Add the color for the chloropleth:\n",
    "folium.Choropleth(\n",
    "    geo_data=state_geo,\n",
    "    name='choropleth',\n",
    "    data = data_temp,\n",
    "    columns=['Province_State', 'Confirmed_log'],\n",
    "    key_on='feature.properties.name',\n",
    "    fill_color='Reds',\n",
    "    fill_opacity=0.7,\n",
    "    line_opacity=0.2,\n",
    "    bins = bins,\n",
    "    reset=True,\n",
    "    legend_name='Confirmed cases log (10^x)'\n",
    ").add_to(m)\n",
    "folium.LayerControl().add_to(m)\n",
    "\n",
    "legend_html = \"<div style='padding:10px;background-color:rgba(255,255,255,0.5);position:fixed;bottom:20px;left:20px;z-index:1000'>\"\n",
    "legend_html += \"<div style='width:100%;text-align:center;'><h4>Index for Legend</h4></div><hr style='border-top-color: rgba(25,25,25,0.5);'>\"\n",
    "legend_html += \"<ul style='margin:0;padding:0;color: #555;list-style-type:circle;align-item:left;padding-left:20px;padding-right:20px'>\"\n",
    "for i in bins:\n",
    "    legend_html += \"<li style='margin:0;padding:0;line-height: 0;'>Value \"+str(np.round(i,2))+\" : \"+str(int(10**i)-1)+\"</li><br>\"\n",
    "legend_html += \"</ul></div>\"\n",
    "m.get_root().html.add_child(folium.Element(legend_html))\n",
    "m"
   ]
  },
  {
   "cell_type": "markdown",
   "metadata": {},
   "source": [
    "### Affected Counties : USA\n",
    "<hr>"
   ]
  },
  {
   "cell_type": "code",
   "execution_count": null,
   "metadata": {
    "_kg_hide-input": true,
    "scrolled": false
   },
   "outputs": [],
   "source": [
    "# binsurl = 'https://raw.githubusercontent.com/python-visualization/folium/master/examples/data'\n",
    "# county_data = f'{url}/us_county_data.csv'\n",
    "# county_geo = f'{url}/us_counties_20m_topo.json'\n",
    "\n",
    "data_temp = df_usa.groupby([\"FIPS\"]).sum().reset_index().drop([\"Lat\",\"Long_\"],axis=1)\n",
    "data_temp[\"Confirmed_log\"] = np.log10(data_temp[\"Confirmed\"]+1)\n",
    "\n",
    "df_usa_series = data_temp.set_index('FIPS')['Confirmed_log']\n",
    "colorscale = branca.colormap.linear.Reds_09.scale(0,data_temp[\"Confirmed_log\"].max()-1)\n",
    "# print(df_usa_series.max())\n",
    "def style_function(feature):\n",
    "    employed = df_usa_series.get(int(feature['id'][-5:]), 0)\n",
    "    return {\n",
    "        'fillOpacity': 0.5,\n",
    "        'weight': 0,\n",
    "        'fillColor': '#black' if employed is None else colorscale(employed)\n",
    "    }\n",
    "\n",
    "\n",
    "m = folium.Map(\n",
    "    location=[37, -102],\n",
    "    tiles='cartodbpositron',\n",
    "    zoom_start=4,\n",
    "    min_zoom=3,\n",
    "    max_zoom=7\n",
    ")\n",
    "\n",
    "folium.TopoJson(\n",
    "    county_geo,\n",
    "    'objects.us_counties_20m',\n",
    "    style_function=style_function\n",
    ").add_to(m)\n",
    "m"
   ]
  },
  {
   "cell_type": "markdown",
   "metadata": {},
   "source": [
    "### Prediction Curve for USA"
   ]
  },
  {
   "cell_type": "code",
   "execution_count": null,
   "metadata": {
    "_kg_hide-input": true,
    "_kg_hide-output": true
   },
   "outputs": [],
   "source": [
    "# Visible = Input(shape=(1,))\n",
    "# Dense_l1 = Dense(80,name=\"Dense_l1\")(Visible)\n",
    "# LRelu_l1 = LeakyReLU(name = \"LRelu_l1\")(Dense_l1)\n",
    "# Dense_l2 = Dense(80,name = \"Dense_l2\")(LRelu_l1)\n",
    "# LRelu_l2 = LeakyReLU(name = \"LRelu_l2\")(Dense_l2)\n",
    "# Dense_l3 = Dense(1,name=\"Dense_l3\")(LRelu_l2)\n",
    "# LRelu_l3 = LeakyReLU(name = \"Output\")(Dense_l3)\n",
    "# model_usa_c = models.Model(inputs=Visible, outputs=LRelu_l3)\n",
    "# model_usa_c.compile(optimizer=Adam(lr=0.0001), \n",
    "#               loss='mean_squared_error',\n",
    "#               metrics=['accuracy'])\n",
    "# model_usa_c.summary()"
   ]
  },
  {
   "cell_type": "code",
   "execution_count": null,
   "metadata": {
    "_kg_hide-input": true
   },
   "outputs": [],
   "source": [
    "# model_usa_c.save('model_usa_c_v3.h5')"
   ]
  },
  {
   "cell_type": "code",
   "execution_count": null,
   "metadata": {
    "_kg_hide-input": true
   },
   "outputs": [],
   "source": [
    "df_temp = df_confirmed.groupby([\"country\"]).sum()\n",
    "df_temp = np.asarray(df_temp[df_temp.index == \"USA\"].iloc[:,2:])[0]\n",
    "data_y = np.log10(df_temp).astype(\"float32\")\n",
    "data_x = np.arange(1,len(data_y)+1)\n",
    "# data_x.shape[0]"
   ]
  },
  {
   "cell_type": "code",
   "execution_count": null,
   "metadata": {
    "_kg_hide-input": true
   },
   "outputs": [],
   "source": [
    "# epochs = 1000\n",
    "# model_usa_c.fit(data_x.reshape([data_x.shape[0],1]),data_y.reshape([data_x.shape[0],1]),epochs=epochs,batch_size=64)"
   ]
  },
  {
   "cell_type": "code",
   "execution_count": null,
   "metadata": {
    "_kg_hide-input": true,
    "_kg_hide-output": true
   },
   "outputs": [],
   "source": [
    "model_usa_c = models.load_model(\"model_usa_c_v3.h5\")\n",
    "model_usa_c.summary()"
   ]
  },
  {
   "cell_type": "code",
   "execution_count": null,
   "metadata": {
    "_kg_hide-input": true
   },
   "outputs": [],
   "source": [
    "lakh = 100000\n",
    "prediction_days = 7\n",
    "df_temp = df_confirmed.groupby([\"country\"]).sum()\n",
    "temp_data = np.asarray(df_temp[df_temp.index == \"USA\"].iloc[:,2:])[0]\n",
    "data = np.power(10,model_usa_c.predict(np.arange(1,len(temp_data)+prediction_days+1)))\n",
    "# temp_data = df_confirmed.iloc[:,5:].sum(axis =0)\n",
    "\n",
    "f = plt.figure(figsize=(12,8))\n",
    "ax = f.add_subplot(111)\n",
    "\n",
    "date = np.arange(0,len(temp_data))\n",
    "\n",
    "marker_style = dict(linewidth=3, linestyle='-', marker='o',markersize=7, markerfacecolor='#ffffff')\n",
    "plt.plot(date,temp_data,\"-.\",color=\"darkcyan\",**marker_style, label=\"Actual Curve\")\n",
    "\n",
    "date = np.arange(0,len(data))\n",
    "plt.plot(date,data,\"-.\",color=\"orangered\",label=\"Predicted Curve\")\n",
    "\n",
    "nextdays = [(datetime.strptime(d[-1],'%d %b')+timedelta(days=i)).strftime(\"%d %b\") for i in range(1,prediction_days+1)]\n",
    "total =d+nextdays\n",
    "\n",
    "text = \"Prediction for next \"+str(prediction_days) +\" days:\\n\"\n",
    "for i in range(prediction_days):\n",
    "    text += nextdays[i]+\" : \"+str(np.round(data[-1*(prediction_days-i)],-3)[0]/lakh)+\" L\\n\"\n",
    "\n",
    "plt.text(0.02, 0.78, text, fontsize=17, horizontalalignment='left', verticalalignment='top', transform=ax.transAxes,bbox=dict(facecolor='white', alpha=0.4))\n",
    "\n",
    "# X-axis\n",
    "plt.xticks(list(np.arange(0,len(total),int(len(total)/5))),total[:-1:int(len(total)/5)]+[total[-1]])\n",
    "\n",
    "# Tick-Parameters\n",
    "ax.xaxis.set_minor_locator(ticker.AutoMinorLocator())\n",
    "ax.yaxis.set_minor_locator(ticker.AutoMinorLocator())\n",
    "ax.tick_params(which='both', width=1,labelsize=14)\n",
    "ax.tick_params(which='major', length=6)\n",
    "ax.tick_params(which='minor', length=3, color='0.8')\n",
    "\n",
    "# Grid\n",
    "plt.grid(lw = 1, ls = '-', c = \"0.7\", which = 'major')\n",
    "plt.grid(lw = 1, ls = '-', c = \"0.9\", which = 'minor')\n",
    "\n",
    "# Plot Title\n",
    "plt.title(\"COVID-19 Next 7 day Prediction Curve-USA Confirmed Cases\",{'fontsize':22})\n",
    "\n",
    "# Axis Lable\n",
    "plt.xlabel(\"Date\",fontsize =18)\n",
    "plt.ylabel(\"Number of Confirmed Cases\",fontsize =18)\n",
    "\n",
    "plt.yscale(\"log\")\n",
    "plt.legend(fontsize =18)\n",
    "plt.tick_params(labelsize = 13) \n",
    "plt.savefig(out+\"Prediction Curve-Confirmed (USA).png\")\n",
    "plt.show()"
   ]
  }
 ],
 "metadata": {
  "kernelspec": {
   "display_name": "Python 3",
   "language": "python",
   "name": "python3"
  },
  "language_info": {
   "codemirror_mode": {
    "name": "ipython",
    "version": 3
   },
   "file_extension": ".py",
   "mimetype": "text/x-python",
   "name": "python",
   "nbconvert_exporter": "python",
   "pygments_lexer": "ipython3",
   "version": "3.7.3"
  }
 },
 "nbformat": 4,
 "nbformat_minor": 4
}
